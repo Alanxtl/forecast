{
 "cells": [
  {
   "cell_type": "markdown",
   "id": "125de6f5",
   "metadata": {
    "papermill": {
     "duration": 0.006047,
     "end_time": "2024-11-22T03:40:51.230654",
     "exception": false,
     "start_time": "2024-11-22T03:40:51.224607",
     "status": "completed"
    },
    "tags": []
   },
   "source": [
    "# <div style=\"text-align:center; padding:15px; color:white; margin:0; font-size:150%; font-family:'Times New Roman'; background-color:#7E8083   ; overflow:hidden\"><b>Import libraries and load data</b></div>"
   ]
  },
  {
   "cell_type": "code",
   "execution_count": 2,
   "id": "8e78b65d",
   "metadata": {
    "execution": {
     "iopub.execute_input": "2024-11-22T03:40:51.245581Z",
     "iopub.status.busy": "2024-11-22T03:40:51.245168Z",
     "iopub.status.idle": "2024-11-22T03:40:54.812591Z",
     "shell.execute_reply": "2024-11-22T03:40:54.811320Z"
    },
    "papermill": {
     "duration": 3.578355,
     "end_time": "2024-11-22T03:40:54.815445",
     "exception": false,
     "start_time": "2024-11-22T03:40:51.237090",
     "status": "completed"
    },
    "tags": []
   },
   "outputs": [],
   "source": [
    "import os\n",
    "\n",
    "import torch\n",
    "import torch.nn as nn\n",
    "import numpy as np\n",
    "import pandas as pd"
   ]
  },
  {
   "cell_type": "code",
   "execution_count": 3,
   "id": "9dfb23b6",
   "metadata": {},
   "outputs": [],
   "source": [
    "max_length = 490  # 输入序列的最大长度\n",
    "input_size = 23  # 特征数量（根据你的数据集调整）\n",
    "lstm_cell = 64  # LSTM 单元数\n",
    "output_size = 5  # 预测的 Commit Count\n",
    "dir = '../../data/predict/dataset'"
   ]
  },
  {
   "cell_type": "code",
   "execution_count": 4,
   "id": "305abedb",
   "metadata": {},
   "outputs": [
    {
     "name": "stdout",
     "output_type": "stream",
     "text": [
      "torch.Size([224, 490, 24])\n"
     ]
    }
   ],
   "source": [
    "tensor_list = []\n",
    "tar_list = []\n",
    "\n",
    "def count_files_in_directory(directory):\n",
    "    # 获取目录下的所有文件和文件夹\n",
    "    with os.scandir(directory) as entries:\n",
    "        for entry in entries:\n",
    "            if entry.is_file():\n",
    "                df = pd.read_csv(entry)\n",
    "                df = df.drop(columns=['Target'])\n",
    "                \n",
    "                tensor_list.append(torch.tensor(df.values, dtype=torch.float32))\n",
    "\n",
    "    if tensor_list:\n",
    "        max_len = max(t.size(0) for t in tensor_list)\n",
    "        padded_tensors = [torch.cat([t, torch.zeros(max_len - t.size(0), t.size(1))]) for t in tensor_list]\n",
    "        x_tensor = torch.stack(padded_tensors)\n",
    "    else:\n",
    "        x_tensor = torch.tensor([])\n",
    "\n",
    "    return x_tensor\n",
    "\n",
    "X_train_tensor = count_files_in_directory(dir)\n",
    "\n",
    "print(X_train_tensor.size())"
   ]
  },
  {
   "cell_type": "code",
   "execution_count": 4,
   "id": "fea5dadf",
   "metadata": {},
   "outputs": [
    {
     "name": "stdout",
     "output_type": "stream",
     "text": [
      "X_windows shape: torch.Size([104760, 5, 24])\n",
      "y_windows shape: torch.Size([104760])\n"
     ]
    },
    {
     "name": "stderr",
     "output_type": "stream",
     "text": [
      "/tmp/ipykernel_1898313/706598666.py:24: UserWarning: Creating a tensor from a list of numpy.ndarrays is extremely slow. Please consider converting the list to a single numpy.ndarray with numpy.array() before converting to a tensor. (Triggered internally at ../torch/csrc/utils/tensor_new.cpp:261.)\n",
      "  return torch.tensor([np.array(t) for t in X_windows], dtype=torch.float32), torch.tensor(y_windows, dtype=torch.float32)\n"
     ]
    }
   ],
   "source": [
    "def create_sliding_window(data, window_size, target_cols):\n",
    "    \"\"\"\n",
    "    将时间序列数据分割成滑动窗口形式。\n",
    "    \n",
    "    Args:\n",
    "        data: shape (samples, time_steps, features)，输入数据张量。\n",
    "        window_size: 滑动窗口大小。\n",
    "        target_cols: 目标列索引列表（多任务）。\n",
    "    \n",
    "    Returns:\n",
    "        X_windows: shape (num_windows, window_size, features)，输入窗口。\n",
    "        y_windows: shape (num_windows, len(target_cols))，目标值。\n",
    "    \"\"\"\n",
    "    X_windows, y_windows = [], []\n",
    "    samples, time_steps, features = data.shape\n",
    "\n",
    "    for sample_idx in range(samples):\n",
    "        for start_idx in range(time_steps - window_size):\n",
    "            # 滑动窗口的输入特征\n",
    "            X_windows.append(data[sample_idx, start_idx:start_idx + window_size, :])\n",
    "            # 滑动窗口的目标值\n",
    "            y_windows.append(data[sample_idx, start_idx + window_size, target_cols])\n",
    "    \n",
    "    return torch.tensor([np.array(t) for t in X_windows], dtype=torch.float32), torch.tensor(y_windows, dtype=torch.float32)\n",
    "\n",
    "\n",
    "# 构造滑动窗口\n",
    "X_windows, y_windows = create_sliding_window(X_train_tensor, 5, [0])\n",
    "print(f\"X_windows shape: {X_windows.shape}\")  # (num_windows, window_size, features)\n",
    "print(f\"y_windows shape: {y_windows.shape}\")  # (num_windows, len(target_cols))\n",
    "\n"
   ]
  },
  {
   "cell_type": "markdown",
   "id": "3791a916",
   "metadata": {},
   "source": [
    "# <div style=\"text-align:center; padding:15px; color:white; margin:0; font-size:150%; font-family:'Times New Roman'; background-color:#7E8083   ; overflow:hidden\"><b>Data</b></div>"
   ]
  },
  {
   "cell_type": "code",
   "execution_count": null,
   "id": "386e7ad1",
   "metadata": {},
   "outputs": [
    {
     "name": "stdout",
     "output_type": "stream",
     "text": [
      "MultiTaskBiLSTM(\n",
      "  (bilstm): LSTM(23, 64, num_layers=2, batch_first=True, dropout=0.3, bidirectional=True)\n",
      "  (task_layers): ModuleList(\n",
      "    (0): Linear(in_features=128, out_features=1, bias=True)\n",
      "  )\n",
      ")\n"
     ]
    },
    {
     "ename": "",
     "evalue": "",
     "output_type": "error",
     "traceback": [
      "\u001b[1;31mThe Kernel crashed while executing code in the current cell or a previous cell. \n",
      "\u001b[1;31mPlease review the code in the cell(s) to identify a possible cause of the failure. \n",
      "\u001b[1;31mClick <a href='https://aka.ms/vscodeJupyterKernelCrash'>here</a> for more info. \n",
      "\u001b[1;31mView Jupyter <a href='command:jupyter.viewOutput'>log</a> for further details."
     ]
    }
   ],
   "source": [
    "class MultiTaskBiLSTM(nn.Module):\n",
    "    def __init__(self, input_size, hidden_size, num_layers, num_tasks, dropout=0.3):\n",
    "        \"\"\"\n",
    "        多任务双向 LSTM 模型\n",
    "        \n",
    "        Args:\n",
    "            input_size: 输入特征数量。\n",
    "            hidden_size: LSTM 隐藏单元数。\n",
    "            num_layers: LSTM 层数。\n",
    "            num_tasks: 任务数量（即目标列数量）。\n",
    "            dropout: Dropout 比例。\n",
    "        \"\"\"\n",
    "        super(MultiTaskBiLSTM, self).__init__()\n",
    "        self.hidden_size = hidden_size\n",
    "        self.num_layers = num_layers\n",
    "        self.num_tasks = num_tasks\n",
    "        \n",
    "        # 共享双向 LSTM 层\n",
    "        self.bilstm = nn.LSTM(input_size, hidden_size, num_layers, \n",
    "                              batch_first=True, bidirectional=True, dropout=dropout)\n",
    "        \n",
    "        # 为每个任务定义独立的全连接层\n",
    "        self.task_layers = nn.ModuleList([nn.Linear(hidden_size * 2, 1) for _ in range(num_tasks)])\n",
    "    \n",
    "    def forward(self, x):\n",
    "        \"\"\"\n",
    "        Args:\n",
    "            x: 输入张量，形状为 (batch_size, time_steps, input_size)。\n",
    "        \n",
    "        Returns:\n",
    "            outputs: 每个任务对应的输出列表，长度为 num_tasks, 每个元素形状为 (batch_size,)。\n",
    "        \"\"\"\n",
    "        # LSTM 前向传播\n",
    "        lstm_out, _ = self.bilstm(x)  # lstm_out shape: (batch_size, time_steps, hidden_size * 2)\n",
    "        \n",
    "        # 取最后一个时间步的输出\n",
    "        last_out = lstm_out[:, -1, :]  # shape: (batch_size, hidden_size * 2)\n",
    "        \n",
    "        # 每个任务的输出\n",
    "        outputs = [layer(last_out) for layer in self.task_layers]\n",
    "        outputs = torch.cat(outputs, dim=1).view(-1)  # 将每个任务的输出拼接成一个张量\n",
    "        return outputs\n",
    "\n",
    "# 实例化模型\n",
    "model = MultiTaskBiLSTM(23, lstm_cell, 2, 1)\n",
    "\n",
    "# 打印模型结构\n",
    "print(model)\n",
    "\n",
    "# 定义损失函数和优化器\n",
    "criterion = nn.MSELoss()  # 对于回归任务，使用均方误差损失\n",
    "optimizer = torch.optim.Adam(model.parameters(), lr=0.001)"
   ]
  },
  {
   "cell_type": "code",
   "execution_count": null,
   "id": "5ec83789",
   "metadata": {},
   "outputs": [
    {
     "name": "stdout",
     "output_type": "stream",
     "text": [
      "tensor([nan, nan, nan,  ..., nan, nan, nan], grad_fn=<ViewBackward0>)\n",
      "tensor([32.,  3.,  7.,  ...,  0.,  0.,  0.])\n"
     ]
    }
   ],
   "source": [
    "# 训练循环示例\n",
    "num_epochs = 50\n",
    "model.train()\n",
    "for epoch in range(num_epochs):\n",
    "    optimizer.zero_grad()\n",
    "    outputs = model(X_windows)  # 前向传播\n",
    "    print(outputs)\n",
    "    print(y_windows)\n",
    "    loss = criterion(outputs, y_windows)  # 计算损失\n",
    "    loss.backward()  # 反向传播\n",
    "    optimizer.step()  # 更新权重\n",
    "    print(f'Epoch [{epoch+1}/{num_epochs}], Loss: {loss.item():.4f}')"
   ]
  },
  {
   "cell_type": "code",
   "execution_count": null,
   "id": "eb9753ad",
   "metadata": {},
   "outputs": [],
   "source": []
  }
 ],
 "metadata": {
  "kaggle": {
   "accelerator": "none",
   "dataSources": [
    {
     "datasetId": 6009354,
     "sourceId": 9804313,
     "sourceType": "datasetVersion"
    }
   ],
   "dockerImageVersionId": 30786,
   "isGpuEnabled": false,
   "isInternetEnabled": true,
   "language": "python",
   "sourceType": "notebook"
  },
  "kernelspec": {
   "display_name": "torch",
   "language": "python",
   "name": "python3"
  },
  "language_info": {
   "codemirror_mode": {
    "name": "ipython",
    "version": 3
   },
   "file_extension": ".py",
   "mimetype": "text/x-python",
   "name": "python",
   "nbconvert_exporter": "python",
   "pygments_lexer": "ipython3",
   "version": "3.9.18"
  },
  "papermill": {
   "default_parameters": {},
   "duration": 61.516712,
   "end_time": "2024-11-22T03:41:49.674262",
   "environment_variables": {},
   "exception": null,
   "input_path": "__notebook__.ipynb",
   "output_path": "__notebook__.ipynb",
   "parameters": {},
   "start_time": "2024-11-22T03:40:48.157550",
   "version": "2.6.0"
  }
 },
 "nbformat": 4,
 "nbformat_minor": 5
}
