{
 "cells": [
  {
   "cell_type": "markdown",
   "id": "125de6f5",
   "metadata": {
    "papermill": {
     "duration": 0.006047,
     "end_time": "2024-11-22T03:40:51.230654",
     "exception": false,
     "start_time": "2024-11-22T03:40:51.224607",
     "status": "completed"
    },
    "tags": []
   },
   "source": [
    "# <div style=\"text-align:center; padding:15px; color:white; margin:0; font-size:150%; font-family:'Times New Roman'; background-color:#7E8083   ; overflow:hidden\"><b>Import libraries and load data</b></div>"
   ]
  },
  {
   "cell_type": "code",
   "execution_count": 72,
   "id": "8e78b65d",
   "metadata": {
    "execution": {
     "iopub.execute_input": "2024-11-22T03:40:51.245581Z",
     "iopub.status.busy": "2024-11-22T03:40:51.245168Z",
     "iopub.status.idle": "2024-11-22T03:40:54.812591Z",
     "shell.execute_reply": "2024-11-22T03:40:54.811320Z"
    },
    "papermill": {
     "duration": 3.578355,
     "end_time": "2024-11-22T03:40:54.815445",
     "exception": false,
     "start_time": "2024-11-22T03:40:51.237090",
     "status": "completed"
    },
    "tags": []
   },
   "outputs": [],
   "source": [
    "import os\n",
    "\n",
    "import numpy as np\n",
    "import pandas as pd\n",
    "from sklearn.model_selection import train_test_split\n",
    "import matplotlib.pyplot as plt\n",
    "\n",
    "import torch\n",
    "import torch.nn as nn\n",
    "import torch.optim as optim\n",
    "from torch.utils.data import DataLoader, Dataset\n",
    "from torch.nn.utils.rnn import pad_sequence"
   ]
  },
  {
   "cell_type": "code",
   "execution_count": 63,
   "id": "f5080a41",
   "metadata": {},
   "outputs": [],
   "source": [
    "dir = '../../data/predict/dataset/10k-15k'\n",
    "input_size: int  # 每个时间步的输入特征数量\n",
    "hidden_size = 64\n",
    "output_size = 3  # 假设每个任务预测3个标签（库的提交数量）\n",
    "num_tasks: int    # 假设有3个库"
   ]
  },
  {
   "cell_type": "code",
   "execution_count": 64,
   "id": "305abedb",
   "metadata": {},
   "outputs": [],
   "source": [
    "def process(all):\n",
    "    data = all.copy().drop(columns=['Core Developers Focus Rate'])\n",
    "    # data['Target'] = data['Target'].apply(lambda x: ast.literal_eval(x)[0] if x != '[]' else 0)\n",
    "\n",
    "    # 计算变化百分比\n",
    "    # data['Target'] = (data['Target'] - data['Commit Count']) / data['Commit Count']\n",
    "\n",
    "    # 创建新列，根据变化比例进行分类\n",
    "    # def categorize_change(row):\n",
    "    #     if abs(row['Target']) > 0.3:  # 超过30%\n",
    "    #         return 1 if row['Target'] > 0 else 0\n",
    "    #     else:\n",
    "    #         return 2  # 未超过30%\n",
    "\n",
    "    # get_dummies(data['Target'], prefix='Target')\n",
    "\n",
    "\n",
    "    # data['code_per_file'] = data['Code Lines'] / data['Code Files']\n",
    "    # data = data[data['Target'] < 400]\n",
    "    data = data[data['Develop Time'] > 0]\n",
    "\n",
    "    # data['code_line_delta'] = data['Added Code Lines'] - data['Removed Code Lines']\n",
    "    # data['code_per_commit'] = (data['Added Code Lines'] + abs(data['Removed Code Lines'])) / data['Commit Count']\n",
    "\n",
    "    data[\"Fork Count\"] = data[\"Fork Count\"].apply(lambda x: x if x != 0 else 1)\n",
    "    data[\"Modified File Count (Average)\"] = data[\"Modified File Count (Average)\"].astype(int)\n",
    "\n",
    "    data[\"PR Length\"] = data[\"PR Length\"].astype(int)\n",
    "    data[\"PR Length\"] = data[\"PR Length\"].replace(0, np.nan)\n",
    "    data[\"Created PRs\"] = data[\"Created PRs\"].replace(0, np.nan)\n",
    "    data[\"Closed PRs\"] = data[\"Closed PRs\"].replace(0, np.nan)\n",
    "    data[\"Created Issues\"] = data[\"Created Issues\"].replace(0, np.nan)\n",
    "    data[\"Closed Issues\"] = data[\"Closed Issues\"].replace(0, np.nan)\n",
    "\n",
    "    data = data.replace(np.inf, np.nan)\n",
    "\n",
    "    data = data.apply(lambda x: x.fillna(x.mean()), axis=0)\n",
    "    data[\"PR Length\"] = data[\"PR Length\"].astype(int)\n",
    "    data[\"Created PRs\"] = data[\"Created PRs\"].astype(int)\n",
    "    data[\"Closed PRs\"] = data[\"Closed PRs\"].astype(int)\n",
    "    data[\"Created Issues\"] = data[\"Created Issues\"].astype(int)\n",
    "    data[\"Closed Issues\"] = data[\"Closed Issues\"].astype(int)\n",
    "    data[\"Label Counts (Average)\"] = data[\"Label Counts (Average)\"].astype(int)\n",
    "    data[\"Target\"] = data[\"Target\"].astype(int)\n",
    "\n",
    "    # # data[\"PR Length\"] = data[\"PR Length\"].astype(int)\n",
    "\n",
    "    # data = data.drop(columns=['Bot Commit', \n",
    "    #                         'Reopened Issues', \n",
    "    #                         'Release Count','Download Count', \n",
    "    #                         'Markdown Files', 'Markdown Lines',\n",
    "    #                         'Code Files', 'Code Lines',\n",
    "    #                         'Bot Commit', 'Truck Factor',\n",
    "    #                         'Code Comments',\n",
    "    #                         \"PR Length\"])\n",
    "\n",
    "    # data = data.drop(columns=['Commit Count'])\n",
    "\n",
    "    return data\n",
    "\n",
    "def count_files_in_directory(directory):\n",
    "    tensor_list = []\n",
    "    i = 0\n",
    "    # 获取目录下的所有文件和文件夹\n",
    "    with os.scandir(directory) as entries:\n",
    "        for entry in entries:\n",
    "            if entry.is_file():\n",
    "                df = pd.read_csv(entry)\n",
    "                if len(df) < 10:\n",
    "                    continue\n",
    "                i += 1\n",
    "\n",
    "                df['Target'] = df['Commit Count'].shift(-1)\n",
    "                df['Target'] = df['Target'].dropna()\n",
    "\n",
    "                tensor_list.append(process(df))\n",
    "\n",
    "    return tensor_list, i\n",
    "\n",
    "data, num_tasks = count_files_in_directory(dir)\n",
    "input_size = data[0].shape[1]"
   ]
  },
  {
   "cell_type": "code",
   "execution_count": 65,
   "id": "9918d8be",
   "metadata": {},
   "outputs": [],
   "source": [
    "# 定义数据集\n",
    "class MultiLabelDataset(Dataset):\n",
    "    def __init__(self, data):\n",
    "        self.data = data  # data是一个list，包含多个库的提交历史数据\n",
    "\n",
    "    def __len__(self):\n",
    "        return len(self.data)\n",
    "\n",
    "    def __getitem__(self, idx):\n",
    "        # 假设每个库的数据是一个时间序列，返回特征和多标签\n",
    "        library_data = self.data[idx]\n",
    "        X = library_data.drop(\"Target\", axis=1)\n",
    "        y = library_data[\"Target\"].copy()\n",
    "\n",
    "\n",
    "        return torch.tensor(X.to_numpy(), dtype=torch.float32), torch.tensor(y.to_numpy(), dtype=torch.float32)"
   ]
  },
  {
   "cell_type": "code",
   "execution_count": 66,
   "id": "209c0ac9",
   "metadata": {},
   "outputs": [],
   "source": [
    "# 自定义collate函数以处理动态填充\n",
    "def collate_fn(batch):\n",
    "    inputs, targets = zip(*batch)\n",
    "    padded_inputs = pad_sequence(inputs, batch_first=True)  # 动态填充输入\n",
    "    padded_targets = pad_sequence(targets, batch_first=True)  # 动态填充目标\n",
    "    return padded_inputs, padded_targets"
   ]
  },
  {
   "cell_type": "code",
   "execution_count": 67,
   "id": "db416aa7",
   "metadata": {},
   "outputs": [],
   "source": [
    "X_train, X_test = train_test_split(data, test_size=0.2, random_state=42)\n",
    "\n",
    "\n",
    "dataset = MultiLabelDataset(X_train)\n",
    "X_test = MultiLabelDataset(X_test)\n"
   ]
  },
  {
   "cell_type": "code",
   "execution_count": 83,
   "id": "fea5dadf",
   "metadata": {},
   "outputs": [],
   "source": [
    "# 定义多任务LSTM模型\n",
    "class MultiTaskLSTM(nn.Module):\n",
    "    def __init__(self, input_size, hidden_size, output_size):\n",
    "        super(MultiTaskLSTM, self).__init__()\n",
    "        self.lstm = nn.LSTM(input_size, hidden_size, batch_first=True)\n",
    "        self.fc = nn.Linear(hidden_size, output_size)\n",
    "\n",
    "    def forward(self, x):\n",
    "        lstm_out, _ = self.lstm(x)\n",
    "        last_out = lstm_out[-1:, -1, :]  # 取最后一个时间步的输出\n",
    "        return self.fc(last_out)"
   ]
  },
  {
   "cell_type": "code",
   "execution_count": 84,
   "id": "d0fa24df",
   "metadata": {},
   "outputs": [],
   "source": [
    "# 创建模型\n",
    "model = MultiTaskLSTM(input_size, hidden_size, output_size)\n",
    "criterion = nn.MSELoss()\n",
    "optimizer = optim.Adam(model.parameters(), lr=0.001)"
   ]
  },
  {
   "cell_type": "code",
   "execution_count": 85,
   "id": "9b090bf1",
   "metadata": {},
   "outputs": [
    {
     "name": "stdout",
     "output_type": "stream",
     "text": [
      "Epoch 1, Loss: 2281.547607421875\n",
      "Epoch 2, Loss: 2215.451904296875\n",
      "Epoch 3, Loss: 2117.1689453125\n",
      "Epoch 4, Loss: 2019.2264404296875\n",
      "Epoch 5, Loss: 1919.4813232421875\n",
      "Epoch 6, Loss: 1832.3973388671875\n",
      "Epoch 7, Loss: 1750.27880859375\n",
      "Epoch 8, Loss: 1680.4287109375\n",
      "Epoch 9, Loss: 1614.8638916015625\n",
      "Epoch 10, Loss: 1555.96337890625\n",
      "Epoch 11, Loss: 1495.4443359375\n",
      "Epoch 12, Loss: 1443.0858154296875\n",
      "Epoch 13, Loss: 1394.0853271484375\n",
      "Epoch 14, Loss: 1347.92431640625\n",
      "Epoch 15, Loss: 1304.2125244140625\n",
      "Epoch 16, Loss: 1262.6016845703125\n",
      "Epoch 17, Loss: 1219.406005859375\n",
      "Epoch 18, Loss: 1181.4703369140625\n",
      "Epoch 19, Loss: 1145.3056640625\n",
      "Epoch 20, Loss: 1110.8131103515625\n",
      "Epoch 21, Loss: 1077.896484375\n",
      "Epoch 22, Loss: 1046.4759521484375\n",
      "Epoch 23, Loss: 1016.4845581054688\n",
      "Epoch 24, Loss: 987.8645629882812\n",
      "Epoch 25, Loss: 960.565673828125\n",
      "Epoch 26, Loss: 934.54296875\n",
      "Epoch 27, Loss: 909.3110961914062\n",
      "Epoch 28, Loss: 885.7228393554688\n",
      "Epoch 29, Loss: 863.2998046875\n",
      "Epoch 30, Loss: 842.0133666992188\n",
      "Epoch 31, Loss: 821.8345336914062\n",
      "Epoch 32, Loss: 802.7362670898438\n",
      "Epoch 33, Loss: 784.693359375\n",
      "Epoch 34, Loss: 767.6821899414062\n",
      "Epoch 35, Loss: 751.6796875\n",
      "Epoch 36, Loss: 736.6651000976562\n",
      "Epoch 37, Loss: 722.61767578125\n",
      "Epoch 38, Loss: 709.51220703125\n",
      "Epoch 39, Loss: 697.3399047851562\n",
      "Epoch 40, Loss: 686.0801391601562\n",
      "Epoch 41, Loss: 675.7158203125\n",
      "Epoch 42, Loss: 666.2304077148438\n",
      "Epoch 43, Loss: 657.6082153320312\n",
      "Epoch 44, Loss: 649.8349609375\n",
      "Epoch 45, Loss: 642.8988647460938\n",
      "Epoch 46, Loss: 636.794677734375\n",
      "Epoch 47, Loss: 631.5343627929688\n",
      "Epoch 48, Loss: 627.1680908203125\n",
      "Epoch 49, Loss: 625.1969604492188\n",
      "Epoch 50, Loss: 623.83935546875\n"
     ]
    }
   ],
   "source": [
    "# 训练模型\n",
    "import warnings\n",
    "warnings.filterwarnings(\"ignore\", category=UserWarning)\n",
    "\n",
    "\n",
    "for epoch in range(50):  # 训练50个epoch\n",
    "    for inputs, targets in dataset:\n",
    "        optimizer.zero_grad()\n",
    "        outputs = model(inputs.unsqueeze(-1))  # 添加一个维度以适应LSTM输入\n",
    "        loss = criterion(outputs, targets[-3:])  # 所有任务的损失相加\n",
    "        loss.backward()\n",
    "        optimizer.step()\n",
    "\n",
    "    print(f'Epoch {epoch + 1}, Loss: {loss.item()}')"
   ]
  },
  {
   "cell_type": "code",
   "execution_count": 96,
   "id": "4b575b1a",
   "metadata": {},
   "outputs": [
    {
     "name": "stderr",
     "output_type": "stream",
     "text": [
      "No artists with labels found to put in legend.  Note that artists whose label start with an underscore are ignored when legend() is called with no argument.\n"
     ]
    },
    {
     "name": "stdout",
     "output_type": "stream",
     "text": [
      "Epoch 50, Loss: 623.83935546875\n",
      "Epoch 50, Loss: 623.83935546875\n",
      "Epoch 50, Loss: 623.83935546875\n",
      "Epoch 50, Loss: 623.83935546875\n",
      "Epoch 50, Loss: 623.83935546875\n",
      "Epoch 50, Loss: 623.83935546875\n"
     ]
    },
    {
     "data": {
      "image/png": "[encoded data removed]",
      "text/plain": [
       "<Figure size 1000x600 with 1 Axes>"
      ]
     },
     "metadata": {},
     "output_type": "display_data"
    }
   ],
   "source": [
    "# 预测\n",
    "with torch.no_grad():\n",
    "    predictions_set = []\n",
    "    true_values_set = []\n",
    "    \n",
    "    for inputs, targets in X_test:\n",
    "        optimizer.zero_grad()\n",
    "        outputs = model(inputs.unsqueeze(-1))  # 添加一个维度以适应LSTM输入\n",
    "        predictions_set.extend(outputs.tolist())\n",
    "        true_values_set.extend(targets[-3:].tolist())  # 假设你想要最后3个目标的值\n",
    "\n",
    "        # print(inputs.unsqueeze(-1))\n",
    "        # print(outputs)\n",
    "        # print(targets[-3:])\n",
    "\n",
    "        # 转换为numpy数组\n",
    "        print(f'Epoch {epoch + 1}, Loss: {loss.item()}')\n",
    "    \n",
    "\n",
    "\n",
    "    # 绘制真实值与预测值|\n",
    "    plt.figure(figsize=(10, 6))\n",
    "    plt.plot(predictions_set, linestyle='dashed')\n",
    "    plt.plot(true_values_set)\n",
    "        \n",
    "    plt.title('True vs Predicted Values')\n",
    "    plt.xlabel('Time Steps')\n",
    "    plt.ylabel('Values')\n",
    "    plt.legend()\n",
    "    plt.show()\n"
   ]
  },
  {
   "cell_type": "code",
   "execution_count": null,
   "id": "e88bcdc5",
   "metadata": {},
   "outputs": [],
   "source": []
  }
 ],
 "metadata": {
  "kaggle": {
   "accelerator": "none",
   "dataSources": [
    {
     "datasetId": 6009354,
     "sourceId": 9804313,
     "sourceType": "datasetVersion"
    }
   ],
   "dockerImageVersionId": 30786,
   "isGpuEnabled": false,
   "isInternetEnabled": true,
   "language": "python",
   "sourceType": "notebook"
  },
  "kernelspec": {
   "display_name": "torch",
   "language": "python",
   "name": "python3"
  },
  "language_info": {
   "codemirror_mode": {
    "name": "ipython",
    "version": 3
   },
   "file_extension": ".py",
   "mimetype": "text/x-python",
   "name": "python",
   "nbconvert_exporter": "python",
   "pygments_lexer": "ipython3",
   "version": "3.9.7"
  },
  "papermill": {
   "default_parameters": {},
   "duration": 61.516712,
   "end_time": "2024-11-22T03:41:49.674262",
   "environment_variables": {},
   "exception": null,
   "input_path": "__notebook__.ipynb",
   "output_path": "__notebook__.ipynb",
   "parameters": {},
   "start_time": "2024-11-22T03:40:48.157550",
   "version": "2.6.0"
  }
 },
 "nbformat": 4,
 "nbformat_minor": 5
}
