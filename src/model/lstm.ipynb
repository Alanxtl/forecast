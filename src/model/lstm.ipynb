{
 "cells": [
  {
   "cell_type": "markdown",
   "id": "125de6f5",
   "metadata": {
    "papermill": {
     "duration": 0.006047,
     "end_time": "2024-11-22T03:40:51.230654",
     "exception": false,
     "start_time": "2024-11-22T03:40:51.224607",
     "status": "completed"
    },
    "tags": []
   },
   "source": [
    "# <div style=\"text-align:center; padding:15px; color:white; margin:0; font-size:150%; font-family:'Times New Roman'; background-color:#7E8083   ; overflow:hidden\"><b>Import libraries and load data</b></div>"
   ]
  },
  {
   "cell_type": "code",
   "execution_count": 1,
   "id": "8e78b65d",
   "metadata": {
    "execution": {
     "iopub.execute_input": "2024-11-22T03:40:51.245581Z",
     "iopub.status.busy": "2024-11-22T03:40:51.245168Z",
     "iopub.status.idle": "2024-11-22T03:40:54.812591Z",
     "shell.execute_reply": "2024-11-22T03:40:54.811320Z"
    },
    "papermill": {
     "duration": 3.578355,
     "end_time": "2024-11-22T03:40:54.815445",
     "exception": false,
     "start_time": "2024-11-22T03:40:51.237090",
     "status": "completed"
    },
    "tags": []
   },
   "outputs": [
    {
     "name": "stderr",
     "output_type": "stream",
     "text": [
      "/root/miniconda3/envs/torch/lib/python3.9/site-packages/scipy/__init__.py:155: UserWarning: A NumPy version >=1.18.5 and <1.26.0 is required for this version of SciPy (detected version 1.26.4\n",
      "  warnings.warn(f\"A NumPy version >={np_minversion} and <{np_maxversion}\"\n"
     ]
    },
    {
     "data": {
      "text/plain": [
       "<torch.cuda.device at 0x76dd46aa16d0>"
      ]
     },
     "execution_count": 1,
     "metadata": {},
     "output_type": "execute_result"
    }
   ],
   "source": [
    "import os\n",
    "\n",
    "import numpy as np\n",
    "import pandas as pd\n",
    "from sklearn.model_selection import train_test_split\n",
    "import matplotlib.pyplot as plt\n",
    "\n",
    "import torch\n",
    "import torch.nn as nn\n",
    "import torch.optim as optim\n",
    "from torch.utils.data import DataLoader, Dataset\n",
    "from torch.nn.utils.rnn import pad_sequence\n",
    "\n",
    "torch.cuda.device('cuda')"
   ]
  },
  {
   "cell_type": "code",
   "execution_count": 2,
   "id": "f5080a41",
   "metadata": {},
   "outputs": [],
   "source": [
    "dir = '../../data/predict/dataset/10k-15k'\n",
    "input_length: int  # 每个时间步的输入特征数量\n",
    "hidden_size = 64\n",
    "output_size = 1  # 假设每个任务预测3个标签（库的提交数量）\n",
    "lable_size: int\n",
    "num_tasks: int    # 假设有3个库\n",
    "train_window = 12"
   ]
  },
  {
   "cell_type": "code",
   "execution_count": 3,
   "id": "305abedb",
   "metadata": {},
   "outputs": [],
   "source": [
    "def process(all):\n",
    "    data = all.copy().drop(columns=['Core Developers Focus Rate'])\n",
    "    # data['Target'] = data['Target'].apply(lambda x: ast.literal_eval(x)[0] if x != '[]' else 0)\n",
    "\n",
    "    # 计算变化百分比\n",
    "    # data['Target'] = (data['Target'] - data['Commit Count']) / data['Commit Count']\n",
    "\n",
    "    # 创建新列，根据变化比例进行分类\n",
    "    # def categorize_change(row):\n",
    "    #     if abs(row['Target']) > 0.3:  # 超过30%\n",
    "    #         return 1 if row['Target'] > 0 else 0\n",
    "    #     else:\n",
    "    #         return 2  # 未超过30%\n",
    "\n",
    "    # get_dummies(data['Target'], prefix='Target')\n",
    "\n",
    "\n",
    "    # data['code_per_file'] = data['Code Lines'] / data['Code Files']\n",
    "    # data = data[data['Target'] < 400]\n",
    "    data = data[data['Develop Time'] > 0]\n",
    "    data = data.drop(columns=['Target'])\n",
    "\n",
    "    # data['code_line_delta'] = data['Added Code Lines'] - data['Removed Code Lines']\n",
    "    # data['code_per_commit'] = (data['Added Code Lines'] + abs(data['Removed Code Lines'])) / data['Commit Count']\n",
    "\n",
    "    data[\"Fork Count\"] = data[\"Fork Count\"].apply(lambda x: x if x != 0 else 1)\n",
    "    data[\"Modified File Count (Average)\"] = data[\"Modified File Count (Average)\"].astype(int)\n",
    "\n",
    "    data[\"PR Length\"] = data[\"PR Length\"].astype(int)\n",
    "    data[\"PR Length\"] = data[\"PR Length\"].replace(0, np.nan)\n",
    "    data[\"Created PRs\"] = data[\"Created PRs\"].replace(0, np.nan)\n",
    "    data[\"Closed PRs\"] = data[\"Closed PRs\"].replace(0, np.nan)\n",
    "    data[\"Created Issues\"] = data[\"Created Issues\"].replace(0, np.nan)\n",
    "    data[\"Closed Issues\"] = data[\"Closed Issues\"].replace(0, np.nan)\n",
    "\n",
    "    data = data.replace(np.inf, np.nan)\n",
    "\n",
    "    data = data.apply(lambda x: x.fillna(x.mean()), axis=0)\n",
    "    data[\"PR Length\"] = data[\"PR Length\"].astype(int)\n",
    "    data[\"Created PRs\"] = data[\"Created PRs\"].astype(int)\n",
    "    data[\"Closed PRs\"] = data[\"Closed PRs\"].astype(int)\n",
    "    data[\"Created Issues\"] = data[\"Created Issues\"].astype(int)\n",
    "    data[\"Closed Issues\"] = data[\"Closed Issues\"].astype(int)\n",
    "    data[\"Label Counts (Average)\"] = data[\"Label Counts (Average)\"].astype(int)\n",
    "\n",
    "    # # data[\"PR Length\"] = data[\"PR Length\"].astype(int)\n",
    "\n",
    "    data = data.drop(columns=['Bot Commit', \n",
    "                            'Reopened Issues', \n",
    "                            'Release Count','Download Count', \n",
    "                            'Markdown Files', 'Markdown Lines',\n",
    "                            'Code Files', 'Code Lines',\n",
    "                            'Bot Commit', 'Truck Factor',\n",
    "                            'Code Comments',\n",
    "                            \"PR Length\"])\n",
    "\n",
    "    # data = data.drop(columns=['Commit Count'])\n",
    "\n",
    "    return data\n",
    "\n",
    "def count_files_in_directory(directory):\n",
    "    tensor_list = []\n",
    "    i = 0\n",
    "    # 获取目录下的所有文件和文件夹\n",
    "    with os.scandir(directory) as entries:\n",
    "        for entry in entries:\n",
    "            if entry.is_file():\n",
    "                df = pd.read_csv(entry)\n",
    "                if len(df) < 10:\n",
    "                    continue\n",
    "                i += 1\n",
    "\n",
    "                tensor_list.append(process(df))\n",
    "\n",
    "    return tensor_list, i\n",
    "\n",
    "data, num_tasks = count_files_in_directory(dir)\n",
    "input_length = data[0].shape[1]\n",
    "lable_size = data[0].shape[1]"
   ]
  },
  {
   "cell_type": "code",
   "execution_count": 4,
   "id": "9918d8be",
   "metadata": {},
   "outputs": [],
   "source": [
    "# 定义数据集\n",
    "class MultiLabelDataset(Dataset):\n",
    "    def __init__(self, data):\n",
    "        self.data = data  # data是一个list，包含多个库的提交历史数据\n",
    "\n",
    "    def __len__(self):\n",
    "        return len(self.data)\n",
    "\n",
    "    def __getitem__(self, idx):\n",
    "        # 假设每个库的数据是一个时间序列，返回特征和多标签\n",
    "        library_data = self.data[idx]\n",
    "        X = [i[0] for i in library_data]\n",
    "        y = [i[1] for i in library_data]\n",
    "\n",
    "        return torch.tensor(X, dtype=torch.float32), torch.tensor(y, dtype=torch.float32)"
   ]
  },
  {
   "cell_type": "code",
   "execution_count": 5,
   "id": "209c0ac9",
   "metadata": {},
   "outputs": [],
   "source": [
    "# 自定义collate函数以处理动态填充\n",
    "def collate_fn(batch):\n",
    "    inputs, targets = zip(*batch)\n",
    "    padded_inputs = pad_sequence(inputs, batch_first=True)  # 动态填充输入\n",
    "    padded_targets = pad_sequence(targets, batch_first=True)  # 动态填充目标\n",
    "    return padded_inputs, padded_targets"
   ]
  },
  {
   "cell_type": "code",
   "execution_count": 6,
   "id": "db416aa7",
   "metadata": {},
   "outputs": [],
   "source": [
    "from sklearn.preprocessing import MinMaxScaler\n",
    "\n",
    "\n",
    "X_train, X_test = train_test_split(data, test_size=0.2, random_state=42)\n",
    "\n",
    "# scaler = MinMaxScaler(feature_range=(-1, 1))\n",
    "# train_data_normalized = scaler.fit(np.concatenate([df.values for df in X_train]))\n",
    "\n",
    "# for i in range(len(X_train)):\n",
    "#     X_train[i] = pd.DataFrame(scaler.transform(X_train[i].values), columns=X_train[i].columns)\n",
    "\n",
    "# for i in range(len(X_test)):\n",
    "#     X_test[i] = pd.DataFrame(scaler.transform(X_test[i].values), columns=X_test[i].columns)"
   ]
  },
  {
   "cell_type": "code",
   "execution_count": 7,
   "id": "f33a5b1d",
   "metadata": {},
   "outputs": [],
   "source": [
    "def create_inout_sequences(input_data, tw):\n",
    "    input_data = input_data.values.tolist() \n",
    "    inout_seq = []\n",
    "    L = len(input_data)\n",
    "    for i in range(L - tw):\n",
    "        train_seq = input_data[i:i + tw]\n",
    "        train_label = input_data[i + tw:i + tw + 1]\n",
    "        train_label = train_label[0][0]\n",
    "        inout_seq.append((train_seq, train_label))\n",
    "    return inout_seq"
   ]
  },
  {
   "cell_type": "code",
   "execution_count": 8,
   "id": "3c312313",
   "metadata": {},
   "outputs": [],
   "source": [
    "for i in range(len(X_train)):\n",
    "    X_train[i] = create_inout_sequences(X_train[i], train_window)\n",
    "for i in range(len(X_test)):\n",
    "    X_test[i] = create_inout_sequences(X_test[i], train_window)"
   ]
  },
  {
   "cell_type": "code",
   "execution_count": 9,
   "id": "1a6706ab",
   "metadata": {},
   "outputs": [],
   "source": [
    "dataset = MultiLabelDataset(X_train)\n",
    "test = MultiLabelDataset(X_test)"
   ]
  },
  {
   "cell_type": "code",
   "execution_count": 13,
   "id": "fea5dadf",
   "metadata": {},
   "outputs": [],
   "source": [
    "# 定义多任务LSTM模型\n",
    "class MultiTaskLSTM(nn.Module):\n",
    "    def __init__(self, lable_size, input_length, hidden_size, output_size):\n",
    "        super(MultiTaskLSTM, self).__init__()\n",
    "        self.fc_in_0 = nn.Linear(lable_size, 64)\n",
    "        self.fc_in_1 = nn.Linear(64, 32)\n",
    "        self.fc_in_2 = nn.Linear(32, 16)\n",
    "        self.fc_in_3 = nn.Linear(16, 1)\n",
    "        self.lstm = nn.LSTM(input_length, hidden_size, batch_first=True)\n",
    "        self.fc_out = nn.Linear(hidden_size, output_size)\n",
    "\n",
    "    def forward(self, x):\n",
    "        in_ = []\n",
    "        for i in range(input_length):\n",
    "            a = self.fc_in_0(x[i])\n",
    "            a = self.fc_in_1(a)\n",
    "            a = self.fc_in_2(a)\n",
    "            a = self.fc_in_3(a)\n",
    "            in_.append(a[0])\n",
    "        in_ = torch.tensor(in_)\n",
    "\n",
    "        lstm_out, _ = self.lstm(in_.view(len(in_) ,1, -1))\n",
    "        predictions = self.fc_out(lstm_out.view(len(in_), -1))\n",
    "\n",
    "        return predictions[-1]"
   ]
  },
  {
   "cell_type": "code",
   "execution_count": 14,
   "id": "d0fa24df",
   "metadata": {},
   "outputs": [
    {
     "data": {
      "text/plain": [
       "MultiTaskLSTM(\n",
       "  (fc_in_0): Linear(in_features=12, out_features=64, bias=True)\n",
       "  (fc_in_1): Linear(in_features=64, out_features=32, bias=True)\n",
       "  (fc_in_2): Linear(in_features=32, out_features=16, bias=True)\n",
       "  (fc_in_3): Linear(in_features=16, out_features=1, bias=True)\n",
       "  (lstm): LSTM(12, 64, batch_first=True)\n",
       "  (fc_out): Linear(in_features=64, out_features=1, bias=True)\n",
       ")"
      ]
     },
     "execution_count": 14,
     "metadata": {},
     "output_type": "execute_result"
    }
   ],
   "source": [
    "# 创建模型\n",
    "model = MultiTaskLSTM(lable_size, input_length, hidden_size, output_size)\n",
    "criterion = nn.MSELoss()\n",
    "optimizer = optim.Adam(model.parameters(), lr=0.001)\n",
    "model"
   ]
  },
  {
   "cell_type": "code",
   "execution_count": 16,
   "id": "9b090bf1",
   "metadata": {},
   "outputs": [
    {
     "name": "stdout",
     "output_type": "stream",
     "text": [
      "Epoch 1, Loss: 1196.8980712890625\n",
      "Epoch 2, Loss: 3025.335693359375\n"
     ]
    }
   ],
   "source": [
    "# 训练模型\n",
    "import warnings\n",
    "\n",
    "warnings.filterwarnings(\"ignore\", category=UserWarning)\n",
    "\n",
    "\n",
    "for epoch in range(2):  # 训练50个epoch\n",
    "    for inputs, targets in dataset:\n",
    "        for i in range(len(inputs)):\n",
    "            input = inputs[i]\n",
    "            target = targets[i]\n",
    "            optimizer.zero_grad()\n",
    "            outputs = model(input)  \n",
    "\n",
    "            loss = criterion(outputs, target)  \n",
    "            loss.backward()\n",
    "            optimizer.step()\n",
    "\n",
    "    print(f'Epoch {epoch + 1}, Loss: {loss.item()}')"
   ]
  },
  {
   "cell_type": "code",
   "execution_count": 17,
   "id": "4b575b1a",
   "metadata": {},
   "outputs": [
    {
     "data": {
      "image/png": "[encoded data removed]",
      "text/plain": [
       "<Figure size 1000x600 with 1 Axes>"
      ]
     },
     "metadata": {},
     "output_type": "display_data"
    }
   ],
   "source": [
    "with torch.no_grad():\n",
    "    predictions_set = []\n",
    "    true_values_set = []\n",
    "    \n",
    "    for inputs, targets in dataset:\n",
    "        for i in range(len(inputs)):\n",
    "            input = inputs[i]\n",
    "            target = targets[i]\n",
    "            outputs = model(input)  # 添加一个维度以适应LSTM输入\n",
    "\n",
    "            \n",
    "            # outputs = scaler.inverse_transform(outputs.repeat(1, 12))[:, 0]\n",
    "            \n",
    "            # target = scaler.inverse_transform(target.repeat(1, 12))[:, 0]\n",
    "            \n",
    "\n",
    "            predictions_set.extend(outputs.tolist())\n",
    "            true_values_set.extend([target])  # 假设你想要最后3个目标的值\n",
    "\n",
    "            # print(f'Epoch {epoch + 1}, Loss: {loss.item()}')\n",
    "\n",
    "        # break\n",
    "    \n",
    "\n",
    "\n",
    "    # 绘制真实值与预测值|\n",
    "    plt.figure(figsize=(10, 6))\n",
    "    plt.plot(predictions_set, label='Predicted Values')\n",
    "    plt.plot(true_values_set, label='True Values', linestyle='--')\n",
    "        \n",
    "    plt.title('True vs Predicted Values')\n",
    "    plt.xlabel('Time Steps')\n",
    "    plt.ylabel('Values')\n",
    "    plt.legend()\n",
    "    plt.show()\n"
   ]
  },
  {
   "cell_type": "code",
   "execution_count": null,
   "id": "e88bcdc5",
   "metadata": {},
   "outputs": [],
   "source": []
  },
  {
   "cell_type": "code",
   "execution_count": null,
   "id": "e185f5ab",
   "metadata": {},
   "outputs": [],
   "source": []
  },
  {
   "cell_type": "code",
   "execution_count": null,
   "id": "55b2984f",
   "metadata": {},
   "outputs": [],
   "source": []
  },
  {
   "cell_type": "code",
   "execution_count": null,
   "id": "74cc4cae",
   "metadata": {},
   "outputs": [],
   "source": []
  },
  {
   "cell_type": "code",
   "execution_count": null,
   "id": "8c4a1bf8",
   "metadata": {},
   "outputs": [],
   "source": []
  },
  {
   "cell_type": "code",
   "execution_count": null,
   "id": "8e164098",
   "metadata": {},
   "outputs": [],
   "source": []
  },
  {
   "cell_type": "code",
   "execution_count": null,
   "id": "7c0940e2",
   "metadata": {},
   "outputs": [],
   "source": []
  },
  {
   "cell_type": "code",
   "execution_count": null,
   "id": "5d749d22",
   "metadata": {},
   "outputs": [],
   "source": []
  },
  {
   "cell_type": "code",
   "execution_count": null,
   "id": "2b395fcd",
   "metadata": {},
   "outputs": [],
   "source": []
  },
  {
   "cell_type": "code",
   "execution_count": null,
   "id": "bc251b68",
   "metadata": {},
   "outputs": [],
   "source": []
  },
  {
   "cell_type": "code",
   "execution_count": null,
   "id": "c6e599b2",
   "metadata": {},
   "outputs": [],
   "source": []
  },
  {
   "cell_type": "code",
   "execution_count": null,
   "id": "5878eb23",
   "metadata": {},
   "outputs": [],
   "source": []
  },
  {
   "cell_type": "code",
   "execution_count": null,
   "id": "621ec990",
   "metadata": {},
   "outputs": [],
   "source": []
  }
 ],
 "metadata": {
  "kaggle": {
   "accelerator": "none",
   "dataSources": [
    {
     "datasetId": 6009354,
     "sourceId": 9804313,
     "sourceType": "datasetVersion"
    }
   ],
   "dockerImageVersionId": 30786,
   "isGpuEnabled": false,
   "isInternetEnabled": true,
   "language": "python",
   "sourceType": "notebook"
  },
  "kernelspec": {
   "display_name": "torch",
   "language": "python",
   "name": "python3"
  },
  "language_info": {
   "codemirror_mode": {
    "name": "ipython",
    "version": 3
   },
   "file_extension": ".py",
   "mimetype": "text/x-python",
   "name": "python",
   "nbconvert_exporter": "python",
   "pygments_lexer": "ipython3",
   "version": "3.9.7"
  },
  "papermill": {
   "default_parameters": {},
   "duration": 61.516712,
   "end_time": "2024-11-22T03:41:49.674262",
   "environment_variables": {},
   "exception": null,
   "input_path": "__notebook__.ipynb",
   "output_path": "__notebook__.ipynb",
   "parameters": {},
   "start_time": "2024-11-22T03:40:48.157550",
   "version": "2.6.0"
  }
 },
 "nbformat": 4,
 "nbformat_minor": 5
}
